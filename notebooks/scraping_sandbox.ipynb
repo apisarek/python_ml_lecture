{
 "cells": [
  {
   "cell_type": "code",
   "execution_count": 2,
   "metadata": {
    "collapsed": true
   },
   "outputs": [],
   "source": [
    "import requests\n",
    "from scrapy.http import TextResponse\n",
    "import re\n",
    "import pandas as pd\n",
    "import time\n",
    "from tqdm import trange, tqdm\n",
    "from pprint import pprint"
   ]
  },
  {
   "cell_type": "code",
   "execution_count": 3,
   "metadata": {
    "collapsed": true
   },
   "outputs": [],
   "source": [
    "def get_response(url):\n",
    "    r = requests.get(url)\n",
    "    return TextResponse(r.url, body=r.text, encoding='utf-8')\n",
    "\n",
    "def get_raw_url(url):\n",
    "    return re.search(r'https?.*\\.html', url).group(0)\n",
    "\n",
    "def discard_xml_markers(string):\n",
    "    return re.sub(r'<(.*?)>', ' ', string)\n",
    "\n",
    "def squash_whitespaces(string):\n",
    "    return re.sub(r'\\s+', ' ', string)\n",
    "\n",
    "def get_main(house):\n",
    "    main = house.xpath('//section[@class=\"section-offer-params\"]//ul[@class=\"main-list\"]/li').extract()\n",
    "    main = [discard_xml_markers(param) for param in main]\n",
    "    return main\n",
    "\n",
    "def get_sub(house):\n",
    "    sub = house.xpath('//section[@class=\"section-offer-params\"]//ul[@class=\"sub-list\"]/li').extract()\n",
    "    sub = [discard_xml_markers(param) for param in sub]\n",
    "    return sub\n",
    "\n",
    "def get_dotted(house):\n",
    "    dotted = house.xpath('//section[@class=\"section-offer-params\"]//ul[@class=\"dotted-list\"]/li').extract()\n",
    "    dotted = [discard_xml_markers(param) for param in dotted]\n",
    "    return dotted\n",
    "\n",
    "def get_place(house):\n",
    "    place = house.xpath('//p[@class=\"address-text\" and @itemprop]/text()').extract()\n",
    "    return place\n",
    "\n",
    "def get_coords(house):\n",
    "    coords = house.xpath('//section[@class=\"section-offer-map hidden-print\"]//div[@id=\"adDetailInlineMap\"]')\n",
    "    lat = coords.xpath('//@data-poi-lat').extract()\n",
    "    lon = coords.xpath('//@data-poi-lon').extract()\n",
    "    return (lat, lon)\n",
    "\n",
    "def get_meta(house):\n",
    "    meta = house.xpath('//div[@class=\"text-details clearfix\"]').extract()[0]\n",
    "    return squash_whitespaces(discard_xml_markers(meta))"
   ]
  },
  {
   "cell_type": "code",
   "execution_count": 5,
   "metadata": {
    "collapsed": true
   },
   "outputs": [],
   "source": [
    "all_offers_template = 'https://www.otodom.pl/sprzedaz/mieszkanie/krakow/?search%5Bdist%5D=15&nrAdsPerPage=72&page={}'\n",
    "# all_offers_template = 'https://www.otodom.pl/sprzedaz/mieszkanie/?search%5Bdescription%5D=1&nrAdsPerPage=72&page={}'"
   ]
  },
  {
   "cell_type": "code",
   "execution_count": 6,
   "metadata": {},
   "outputs": [
    {
     "name": "stderr",
     "output_type": "stream",
     "text": [
      "  0%|          | 0/419 [00:00<?, ?it/s]\n",
      "  0%|          | 0/79 [00:00<?, ?it/s]"
     ]
    },
    {
     "name": "stdout",
     "output_type": "stream",
     "text": [
      "['https://www.otodom.pl/malopolskie/oferta/poszukiwana-lokalizacja-3pok-20-min-od-centrum-ID3g9Ve.html',\n",
      " 'https://www.otodom.pl/malopolskie/oferta/spelniaj-marzenia-nie-baczac-na-cene-angel-city-ID3fCGg.html',\n",
      " 'https://www.otodom.pl/malopolskie/oferta/k-wielkiego-krowodrza-gotowe-do-zamieszkania-ID3fTkg.html',\n",
      " 'https://www.otodom.pl/malopolskie/oferta/nowe-3-pokojowe-mieszkanie-o-powierzchni-43-m2-ID360Xe.html',\n",
      " 'https://www.otodom.pl/malopolskie/oferta/mieszkanie-4pok-87m2-garaz-ogrod-kom-lok-krakow-ID3aQbY.html',\n",
      " 'https://www.otodom.pl/malopolskie/oferta/mieszkanie-w-stanie-idealnym-ID3f1Zm.html',\n",
      " 'https://www.otodom.pl/malopolskie/oferta/swietna-lokalizacja-ruczaj-2-pokoje-od-zaraz-ID3dCZV.html',\n",
      " 'https://www.otodom.pl/oferta/mieszkanie-43-52-m-krakow-ID3gyeS.html',\n",
      " 'https://www.otodom.pl/oferta/2-pok-z-duzym-balkonem-o-pow-55m2-dobrego-pasterza-ID3gyeY.html',\n",
      " 'https://www.otodom.pl/oferta/apartament-na-starym-miescie-43m2-pod-inwestycje-ID3gyeQ.html',\n",
      " 'https://www.otodom.pl/oferta/sprzedam-3pok-65m2-ul-lipinskiego-debniki-ruczaj-ID3dwEI.html',\n",
      " 'https://www.otodom.pl/oferta/b0-2-przytulne-mieszkanie-z-ogrodem-ID3gycC.html',\n",
      " 'https://www.otodom.pl/oferta/nowoczesne-studio-ul-romanowicza-ID3gybQ.html',\n",
      " 'https://www.otodom.pl/oferta/b0-1-dwusypialniowe-z-ogrodem-w-nowej-inwestycji-ID3gybs.html',\n",
      " 'https://www.otodom.pl/oferta/a3-4-przestronne-dwie-sypialnie-z-tarasem-ID3gyav.html',\n",
      " 'https://www.otodom.pl/oferta/zlotego-wieku-wyremontowane-2pok-z-balkonem-ID3gyaa.html',\n",
      " 'https://www.otodom.pl/oferta/a3-3-przestronne-dwupokojowe-w-nowej-inwestycji-ID3gy8K.html',\n",
      " 'https://www.otodom.pl/oferta/piekna-kawalerka-w-swietnej-lokalizacji-ID3gy7k.html',\n",
      " 'https://www.otodom.pl/oferta/mieszkanie-65m-kazimierz-krakow-przemyska-winda-ID36mH6.html',\n",
      " 'https://www.otodom.pl/oferta/zabiniec-b-ladne-mieszkanie-2-pokojowe-45-5m2-ID3gy3g.html',\n",
      " 'https://www.otodom.pl/oferta/tania-kawalerka-idealna-na-inwestycje-ID3gy3s.html',\n",
      " 'https://www.otodom.pl/oferta/kilka-mieszkan-stan-deweloperski-lea-rej-ID3gy2g.html',\n",
      " 'https://www.otodom.pl/oferta/nowe-mieszkanie-1-lub-2-pokojowe-centrum-ID3gy1Q.html',\n",
      " 'https://www.otodom.pl/oferta/mieszkanie-w-cichej-okolicy-ID3gxXA.html',\n",
      " 'https://www.otodom.pl/oferta/super-komfort-na-slowackiego-nowa-cena-ID3eGwk.html',\n",
      " 'https://www.otodom.pl/oferta/2-pokoje-j-kuchnia-mpec-piwnica-balkon-ID3gxWu.html',\n",
      " 'https://www.otodom.pl/oferta/wysoki-standard-3-pokoje-umeblowane-garaz-ID3gxUv.html',\n",
      " 'https://www.otodom.pl/malopolskie/oferta/nowa-huta-2-pokoje-polecam-ID3gxTY.html',\n",
      " 'https://www.otodom.pl/kujawsko-pomorskie/oferta/krakow-podgorze-ul-kalwaryjska-ID3gxT4.html',\n",
      " 'https://www.otodom.pl/malopolskie/oferta/2-oddz-pok-jasna-kuchnia-loggia-aleja-kijowska-ID3g2f0.html',\n",
      " 'https://www.otodom.pl/oferta/nowa-inwestycja-na-starym-podgorzu-ID3gxRI.html',\n",
      " 'https://www.otodom.pl/malopolskie/oferta/gotowe-mieszkanie-2-pokojowe-0-prowizji-ID3gxQ8.html',\n",
      " 'https://www.otodom.pl/oferta/piwnica-cegla-mpec-wysoki-parter-2pok-j-kuchnia-ID3gxAY.html',\n",
      " 'https://www.otodom.pl/malopolskie/oferta/nowe-mieszkania-w-centrum-starego-podgorza-ID3gxBQ.html',\n",
      " 'https://www.otodom.pl/oferta/3-pokojowe-mieszkanie-kuchnia-90-m2-ID3gxBg.html',\n",
      " 'https://www.otodom.pl/slaskie/oferta/mieszkanie-42-80-m-krakow-ID3gxAA.html',\n",
      " 'https://www.otodom.pl/malopolskie/oferta/nowoczesny-styl-i-desen-2pok-luzycka-podgorze-ID3gg2V.html',\n",
      " 'https://www.otodom.pl/oferta/super-2-pokojowe-2000r-bardzo-ladne-z-klimatem-ID3gqRg.html',\n",
      " 'https://www.otodom.pl/oferta/ok-uek-politechniki-pszona-male-funkcjonalne-1pok-ID3gca4.html',\n",
      " 'https://www.otodom.pl/oferta/mieszkanie-54-m-krakow-ID3gqRi.html',\n",
      " 'https://www.otodom.pl/malopolskie/oferta/z-klimatem-w-nowczesnym-wydaniu-2-pok-mysliwska-ID3fnRy.html',\n",
      " 'https://www.otodom.pl/malopolskie/oferta/poszukiwana-lokalizacja-3pok-20-min-od-centrum-ID3g9Ve.html',\n",
      " 'https://www.otodom.pl/slaskie/oferta/bojki-3pokojowe-na-parterze-okazja-dnia-260-000-ID3fGYu.html',\n",
      " 'https://www.otodom.pl/oferta/nowe-mieszkania-w-centrum-starego-podgorza-ID3gxzi.html',\n",
      " 'https://www.otodom.pl/oferta/3-pokojowy-apartament-na-ruczaju-ID3fnzS.html',\n",
      " 'https://www.otodom.pl/oferta/jasne-i-wygodne-3-pokoje-na-ruczaju-ID3dFq4.html',\n",
      " 'https://www.otodom.pl/malopolskie/oferta/wyjatkowe-dwupoziomowe-mieszkanie-w-centrum-ID3gxyg.html',\n",
      " 'https://www.otodom.pl/oferta/3-pok-53m2-ul-widok-dabie-grzegorzki-ID3gg38.html',\n",
      " 'https://www.otodom.pl/malopolskie/oferta/ul-zygmuntowska-krowodrza-45m2-2pok-2002-rok-ID3gjGO.html',\n",
      " 'https://www.otodom.pl/malopolskie/oferta/mieszkanie-4-pok-115m2-3-lazienki-al-slowackiego-ID3gjHo.html',\n",
      " 'https://www.otodom.pl/malopolskie/oferta/piekne-51m2-ul-lea-przybyszewskiego-rezerwuj-ID3gjHA.html',\n",
      " 'https://www.otodom.pl/malopolskie/oferta/nowa-huta-plac-centralny-37m-po-remoncie-balkon-ID3gxxm.html',\n",
      " 'https://www.otodom.pl/oferta/4-pokojowe-mieszkanie-kuchnia-102-m2-ID3gxv4.html',\n",
      " 'https://www.otodom.pl/malopolskie/oferta/przestronne-2-pokoje-w-centrum-ID3gxwO.html',\n",
      " 'https://www.otodom.pl/malopolskie/oferta/mieszkanie-2pokoje-30m2-aleja-pokoju-centralna-ID3gbiQ.html',\n",
      " 'https://www.otodom.pl/malopolskie/oferta/piedmont-nowa-inwestycja-na-starym-podgorzu-ID3gxws.html',\n",
      " 'https://www.otodom.pl/malopolskie/oferta/3-pokojowe-ul-luzycka-ID3gxu4.html',\n",
      " 'https://www.otodom.pl/oferta/mieszkanie-z-pieknym-widokiem-ID3gxsE.html',\n",
      " 'https://www.otodom.pl/malopolskie/oferta/klimatyczne-mieszkanie-na-starowislnej-ID3gxsA.html',\n",
      " 'https://www.otodom.pl/oferta/chocimska-krowodrza-w-poblizu-agh-pod-inwestycje-ID3gxqs.html',\n",
      " 'https://www.otodom.pl/oferta/bronowice-chelmonskiego-2-pok-plus-garaz-komorka-ID3gxqm.html',\n",
      " 'https://www.otodom.pl/oferta/mieszkanie-100-40-m-krakow-ID3gxoa.html',\n",
      " 'https://www.otodom.pl/malopolskie/oferta/mieszkanie-50-m-krakow-ID3gxle.html',\n",
      " 'https://www.otodom.pl/malopolskie/oferta/mieszkanie-48-m-krakow-ID3gxli.html',\n",
      " 'https://www.otodom.pl/malopolskie/oferta/mieszkanie-57-m-krakow-ID3gxlk.html',\n",
      " 'https://www.otodom.pl/malopolskie/oferta/mieszkanie-54-m-krakow-ID3gxlm.html',\n",
      " 'https://www.otodom.pl/malopolskie/oferta/dwupokojowe-mieszkanie-przy-kazimierza-wielkiego-ID3gxky.html',\n",
      " 'https://www.otodom.pl/malopolskie/oferta/2-pokoje-kamienica-centrum-krakowa-ID3gxkv.html',\n",
      " 'https://www.otodom.pl/malopolskie/oferta/2-pokoje-kamienica-centrum-krakowa-ID3gxku.html',\n",
      " 'https://www.otodom.pl/malopolskie/oferta/giebultow-st-deweloperski-mieszk-3-lub-4-pok-ID3gxjV.html',\n",
      " 'https://www.otodom.pl/oferta/mieszkanie-49-m-krakow-ID3gxie.html',\n",
      " 'https://www.otodom.pl/malopolskie/oferta/mieszkanie-55-m-krakow-ID3gxi4.html',\n",
      " 'https://www.otodom.pl/oferta/super-cena-duza-loggia-piwnica-mpec-pokoj-kuchnia-ID3gxfm.html',\n",
      " 'https://www.otodom.pl/malopolskie/oferta/mieszkanie-35-77-m-krakow-ID3gxc4.html',\n",
      " 'https://www.otodom.pl/malopolskie/oferta/ruczaj-3-pokoje-nowy-blok-ID3gx4Q.html',\n",
      " 'https://www.otodom.pl/malopolskie/oferta/chocimska-2pok-jasna-kuchnia-po-remoncie-ID3gx4M.html',\n",
      " 'https://www.otodom.pl/malopolskie/oferta/pradnik-bialy-sloneczne-mieszkanie-duzy-balkon-ID3gx2Y.html',\n",
      " 'https://www.otodom.pl/malopolskie/oferta/3-pok-kuchnia-gotowe-bez-pcc-widokowe-pld-zach-ID3ffNE.html',\n",
      " 'https://www.otodom.pl/malopolskie/oferta/apartament-1-pokojowego-36m2-duza-loggia-debniki-ID3gvYY.html']\n"
     ]
    },
    {
     "name": "stderr",
     "output_type": "stream",
     "text": [
      "\u001b[A"
     ]
    },
    {
     "name": "stdout",
     "output_type": "stream",
     "text": [
      "[{'coords': (['50.09467840'], ['19.96935590']),\n",
      "  'dotted': [' domofon / wideofon ',\n",
      "             ' meble ',\n",
      "             ' balkon ',\n",
      "             '  piwnica ',\n",
      "             '  winda ',\n",
      "             '  oddzielna kuchnia ',\n",
      "             '  pom. użytkowe '],\n",
      "  'main': [' cena   320 000 zł   6 136,15 zł/m² ',\n",
      "           ' powierzchnia   52,15 m²   ',\n",
      "           ' liczba pokoi   3   ',\n",
      "           ' piętro   8  (z 12)  '],\n",
      "  'meta': ' Nr oferty w Otodom: 48180462 Nr oferty w biurze nieruchomości: '\n",
      "          'ABN-MS-21827 Liczba wyświetleń strony: 3398 Data dodania: '\n",
      "          '10.05.2017 Data aktualizacji: 17.05.2017 ',\n",
      "  'place': ['Kraków, Prądnik Czerwony, Powstańców'],\n",
      "  'sub': ['  rynek:  wtórny ',\n",
      "          '  rodzaj zabudowy:  blok ',\n",
      "          '  okna:  plastikowe ',\n",
      "          '  ogrzewanie:  miejskie ',\n",
      "          '  rok budowy:  1980  ',\n",
      "          '  stan wykończenia:  do zamieszkania ',\n",
      "          '  czynsz:  350 zł ',\n",
      "          '  forma własności:  pełna własność ']}]\n"
     ]
    },
    {
     "name": "stderr",
     "output_type": "stream",
     "text": [
      "\n",
      "\u001b[A\n"
     ]
    }
   ],
   "source": [
    "for page in trange(1, 420):\n",
    "    response = get_response(all_offers_template.format(page))\n",
    "    \n",
    "    houses = response.xpath('//article[@data-url]/@data-url').extract()\n",
    "    houses = [get_raw_url(url) for url in houses]\n",
    "    pprint(houses)\n",
    "    data = []\n",
    "    for house_url in tqdm(houses):\n",
    "#         print(house_url)\n",
    "        house = get_response(house_url)\n",
    "#         time.sleep(0.1)\n",
    "        data.append({\n",
    "            'main': get_main(house),\n",
    "            'sub': get_sub(house),\n",
    "            'dotted': get_dotted(house),\n",
    "            'place': get_place(house),\n",
    "            'coords': get_coords(house),\n",
    "            'meta': get_meta(house)\n",
    "            \n",
    "        })\n",
    "        pprint(data)\n",
    "        break\n",
    "    break\n",
    "#     pd.DataFrame(data).to_csv('./data/data_part_{}.csv'.format(page), index=False)"
   ]
  },
  {
   "cell_type": "code",
   "execution_count": 1,
   "metadata": {},
   "outputs": [
    {
     "name": "stdout",
     "output_type": "stream",
     "text": [
      "[NbConvertApp] Converting notebook scraping_sandbox.ipynb to script\n",
      "[NbConvertApp] Writing 2616 bytes to scraping_sandbox.py\n"
     ]
    }
   ],
   "source": [
    "!jupyter nbconvert --to script scraping_sandbox.ipynb\n"
   ]
  },
  {
   "cell_type": "code",
   "execution_count": null,
   "metadata": {
    "collapsed": true
   },
   "outputs": [],
   "source": []
  }
 ],
 "metadata": {
  "kernelspec": {
   "display_name": "Python [conda root]",
   "language": "python",
   "name": "conda-root-py"
  },
  "language_info": {
   "codemirror_mode": {
    "name": "ipython",
    "version": 3
   },
   "file_extension": ".py",
   "mimetype": "text/x-python",
   "name": "python",
   "nbconvert_exporter": "python",
   "pygments_lexer": "ipython3",
   "version": "3.6.0"
  }
 },
 "nbformat": 4,
 "nbformat_minor": 2
}
